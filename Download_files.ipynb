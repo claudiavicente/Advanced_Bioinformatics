{
 "cells": [
  {
   "cell_type": "code",
   "execution_count": null,
   "id": "0b8fef0d",
   "metadata": {},
   "outputs": [],
   "source": [
    "# IMPORT THE NECESSARY LIBRARIES\n",
    "import os\n",
    "import requests\n",
    "import re\n",
    "import pandas as pd  "
   ]
  },
  {
   "cell_type": "code",
   "execution_count": null,
   "id": "911b0ec7",
   "metadata": {},
   "outputs": [],
   "source": [
    "# OPEN GDC MANIFEST\n",
    "mf_name = input('Write manifest file name: ')   #gdc_manifest.2023-09-19.txt\n",
    "data = pd.read_csv(mf_name, delimiter='\\t')"
   ]
  },
  {
   "cell_type": "code",
   "execution_count": null,
   "id": "ff2340ae",
   "metadata": {},
   "outputs": [],
   "source": [
    "# DIRECTORY WHERE FILES ARE SAVED\n",
    "output_directory = '/Volumes/TOSHIBA EXT/4t curs/Advanced Bioinformatics/Project/Python/Files'\n",
    "os.makedirs(output_directory, exist_ok=True)"
   ]
  },
  {
   "cell_type": "code",
   "execution_count": null,
   "id": "5c69c6bd",
   "metadata": {},
   "outputs": [],
   "source": [
    "# LOOPING THROUGH FILES IDs, EACH FILE IS DOWNLOADED\n",
    "count = 0\n",
    "for _, row in data.iterrows():\n",
    "\n",
    "    file_id = str(row[0])  \n",
    "    data_endpt = 'https://api.gdc.cancer.gov/data/{}'.format(file_id)\n",
    "    response = requests.get(data_endpt, headers={'Content-Type': 'application/json'})\n",
    "\n",
    "    # REQUEST STATUS CHECK\n",
    "    if response.status_code == 200:\n",
    "        \n",
    "        response_head_cd = response.headers.get('Content-Disposition')\n",
    "        if response_head_cd:\n",
    "            file_name = re.findall('filename=(.+)', response_head_cd)[0]\n",
    "            output_file_path = os.path.join(output_directory, file_name)\n",
    "\n",
    "            with open(output_file_path, 'wb') as output_file:\n",
    "                output_file.write(response.content)\n",
    "                count = count + 1\n",
    "                print(f'Downloaded file nº {count}: {file_name}')\n",
    "        else:\n",
    "            print(f'Failed to get file name for file ID: {file_id}')\n",
    "    else:\n",
    "        print(f'Failed to download file ID: {file_id} - Status Code: {response.status_code}')"
   ]
  }
 ],
 "metadata": {
  "kernelspec": {
   "display_name": "Python 3 (ipykernel)",
   "language": "python",
   "name": "python3"
  },
  "language_info": {
   "codemirror_mode": {
    "name": "ipython",
    "version": 3
   },
   "file_extension": ".py",
   "mimetype": "text/x-python",
   "name": "python",
   "nbconvert_exporter": "python",
   "pygments_lexer": "ipython3",
   "version": "3.11.4"
  }
 },
 "nbformat": 4,
 "nbformat_minor": 5
}
